{
 "cells": [
  {
   "cell_type": "markdown",
   "metadata": {},
   "source": [
    "# Smart Sales Analysis"
   ]
  },
  {
   "cell_type": "markdown",
   "metadata": {},
   "source": [
    "-------\n",
    "### Organize imports and define paths"
   ]
  },
  {
   "cell_type": "code",
   "execution_count": 80,
   "metadata": {},
   "outputs": [],
   "source": [
    "# Core imports\n",
    "from pathlib import Path\n",
    "import pandas as pd\n",
    "import seaborn as sns\n",
    "import matplotlib.pyplot as plt\n",
    "\n",
    "# PySpark imports\n",
    "from pyspark.sql import SparkSession\n",
    "from pyspark.sql.functions import when, year, month, quarter, sum as _sum\n",
    "\n",
    "# Define paths using pathlib\n",
    "PROJECT_ROOT = Path(\"/Users/joannafarris/Projects/smart-store-joannafarris\")\n",
    "JDBC_JAR_PATH = PROJECT_ROOT / \"lib\" / \"sqlite-jdbc-3.49.1.0.jar\"\n",
    "DB_PATH = PROJECT_ROOT / \"data\" / \"dw\" / \"smart_sales.db\"\n",
    "\n",
    "# Define the JDBC URL\n",
    "DB_URL = f\"jdbc:sqlite:{str(DB_PATH)}\""
   ]
  },
  {
   "cell_type": "markdown",
   "metadata": {},
   "source": [
    "--------\n",
    "### Configure Spark for SQLite connection"
   ]
  },
  {
   "cell_type": "code",
   "execution_count": 81,
   "metadata": {},
   "outputs": [],
   "source": [
    "# Stop existing Spark session if one is already active\n",
    "if 'spark' in locals() and spark is not None:\n",
    "    spark.stop()\n",
    "\n",
    "# Create SparkSession with the JDBC jar\n",
    "spark = SparkSession.builder \\\n",
    "    .appName(\"SmartSales\") \\\n",
    "    .config(\"spark.jars\", str(JDBC_JAR_PATH)) \\\n",
    "    .config(\"spark.driver.extraClassPath\", str(JDBC_JAR_PATH)) \\\n",
    "    .getOrCreate()\n",
    "\n",
    "# Set Spark's log level to ERROR to reduce output\n",
    "spark.sparkContext.setLogLevel(\"ERROR\")"
   ]
  },
  {
   "cell_type": "markdown",
   "metadata": {},
   "source": [
    "________\n",
    "### Load tables into Spark using the SQLite JDBC driver"
   ]
  },
  {
   "cell_type": "code",
   "execution_count": 82,
   "metadata": {},
   "outputs": [
    {
     "name": "stdout",
     "output_type": "stream",
     "text": [
      "+-----------+----------------+------+----------+--------------+------------------------+\n",
      "|customer_id|            name|region| join_date|loyalty_points|preferred_contact_method|\n",
      "+-----------+----------------+------+----------+--------------+------------------------+\n",
      "|       1001|   William White|  East|2021-11-11|           150|                    Text|\n",
      "|       1002|    Wylie Coyote|  East|2023-02-14|           240|                    Text|\n",
      "|       1003|       Dan Brown|  West|2023-10-19|           330|                    Text|\n",
      "|       1004|       Chewbacca|  West|2022-11-09|           285|                    Text|\n",
      "|       1005|          Dr Who| North|2023-08-18|           315|                    Call|\n",
      "|       1006|   Tiffany James| South|2021-06-07|            60|                    Text|\n",
      "|       1007|   Susan Johnson| South|2023-06-30|            30|                   Email|\n",
      "|       1008|      Tony Stark| North|2020-05-01|           345|                    Text|\n",
      "|       1009|    Jason Bourne|  West|2020-12-01|           405|                   Email|\n",
      "|       1010|Hermione Granger|  East|2022-12-09|            90|                    Text|\n",
      "|       1011| Hermione Grager|  East|2022-12-09|           150|                    Text|\n",
      "+-----------+----------------+------+----------+--------------+------------------------+\n",
      "\n"
     ]
    }
   ],
   "source": [
    "try:\n",
    "    df_customer = spark.read.format(\"jdbc\") \\\n",
    "        .option(\"url\", DB_URL) \\\n",
    "        .option(\"dbtable\", \"customer\") \\\n",
    "        .option(\"driver\", \"org.sqlite.JDBC\") \\\n",
    "        .load()\n",
    "    df_customer.show()\n",
    "except Exception as e:\n",
    "    print(f\"Error loading data: {e}\")"
   ]
  },
  {
   "cell_type": "code",
   "execution_count": 83,
   "metadata": {},
   "outputs": [
    {
     "name": "stdout",
     "output_type": "stream",
     "text": [
      "+----------+------------+-----------+--------------+--------------+--------+\n",
      "|product_id|product_name|   category|unit_price_usd|stock_quantity|supplier|\n",
      "+----------+------------+-----------+--------------+--------------+--------+\n",
      "|       101|      laptop|Electronics|        793.12|            31|   Apple|\n",
      "|       102|      hoodie|   Clothing|          39.1|           205|     HIT|\n",
      "|       103|       cable|Electronics|         22.76|           150|      SM|\n",
      "|       104|         hat|   Clothing|          43.1|            51|     HIT|\n",
      "|       105|    football|     Sports|         19.78|           102|    Nike|\n",
      "|       106|  controller|Electronics|         88.98|            42|      SM|\n",
      "|       107|      jacket|   Clothing|         67.02|            37|     HIT|\n",
      "|       108|   protector|Electronics|         12.56|           303|      SM|\n",
      "+----------+------------+-----------+--------------+--------------+--------+\n",
      "\n"
     ]
    }
   ],
   "source": [
    "try:\n",
    "    df_product = spark.read.format(\"jdbc\") \\\n",
    "        .option(\"url\", DB_URL) \\\n",
    "        .option(\"dbtable\", \"product\") \\\n",
    "        .option(\"driver\", \"org.sqlite.JDBC\") \\\n",
    "        .load()\n",
    "    df_product.show()\n",
    "except Exception as e:\n",
    "    print(f\"Error loading data: {e}\")"
   ]
  },
  {
   "cell_type": "code",
   "execution_count": 84,
   "metadata": {},
   "outputs": [
    {
     "name": "stdout",
     "output_type": "stream",
     "text": [
      "+-------+----------+-----------+----------+--------+-----------+---------------+------------+------------+\n",
      "|sale_id| sale_date|customer_id|product_id|store_id|campaign_id|sale_amount_usd|bonus_points|payment_type|\n",
      "+-------+----------+-----------+----------+--------+-----------+---------------+------------+------------+\n",
      "|    550|2024-01-06|       1008|       102|     404|          0|             39|           5|       debit|\n",
      "|    551|2024-01-06|       1009|       105|     403|          0|             19|          40|      credit|\n",
      "|    552|2024-01-16|       1004|       107|     404|          0|            335|          50|        cash|\n",
      "|    553|2024-01-16|       1006|       102|     406|          0|            195|          55|      credit|\n",
      "|    554|2024-01-25|       1005|       102|     405|          0|            117|          60|       debit|\n",
      "|    555|2024-01-25|       1001|       101|     401|          0|           2379|          35|      credit|\n",
      "|    556|2024-01-29|       1009|       104|     403|          0|            172|         100|        cash|\n",
      "|    557|2024-01-29|       1010|       101|     402|          0|           3172|          85|      credit|\n",
      "|    558|2024-02-06|       1002|       102|     402|          0|            312|          25|   apple pay|\n",
      "|    559|2024-02-06|       1001|       106|     401|          0|            622|          95|       debit|\n",
      "|    560|2024-02-06|       1010|       101|     402|          0|           6344|           0|   apple pay|\n",
      "|    561|2024-02-06|       1005|       107|     405|          0|            469|          45|        cash|\n",
      "|    562|2024-02-08|       1003|       108|     403|          0|             12|          15|   apple pay|\n",
      "|    563|2024-02-08|       1006|       107|     406|          0|             67|         100|        cash|\n",
      "|    564|2024-02-09|       1009|       107|     403|          0|            469|          75|       debit|\n",
      "|    565|2024-02-09|       1002|       105|     402|          0|            138|          40|        cash|\n",
      "|    566|2024-02-24|       1007|       103|     405|          0|            204|           5|   apple pay|\n",
      "|    567|2024-02-24|       1007|       106|     405|          0|            444|          40|        cash|\n",
      "|    568|2024-02-24|       1011|       107|     401|          0|            603|          70|       debit|\n",
      "|    569|2024-02-24|       1010|       101|     402|          0|           3965|          15|        cash|\n",
      "+-------+----------+-----------+----------+--------+-----------+---------------+------------+------------+\n",
      "only showing top 20 rows\n",
      "\n"
     ]
    }
   ],
   "source": [
    "try:\n",
    "    df_sales = spark.read.format(\"jdbc\") \\\n",
    "        .option(\"url\", DB_URL) \\\n",
    "        .option(\"dbtable\", \"sales\") \\\n",
    "        .option(\"driver\", \"org.sqlite.JDBC\") \\\n",
    "        .load()\n",
    "    df_sales.show()\n",
    "except Exception as e:\n",
    "    print(f\"Error loading data: {e}\")"
   ]
  },
  {
   "cell_type": "markdown",
   "metadata": {},
   "source": [
    "_____________\n",
    "### Use Spark SQL to perform a grouped query"
   ]
  },
  {
   "cell_type": "code",
   "execution_count": 85,
   "metadata": {},
   "outputs": [
    {
     "name": "stdout",
     "output_type": "stream",
     "text": [
      "+----------------+-----------+\n",
      "|            name|total_spent|\n",
      "+----------------+-----------+\n",
      "|   William White|      23747|\n",
      "|Hermione Granger|      22817|\n",
      "|   Susan Johnson|      12418|\n",
      "|       Chewbacca|      11811|\n",
      "|   Tiffany James|      11711|\n",
      "| Hermione Grager|       8748|\n",
      "|    Wylie Coyote|       7430|\n",
      "|          Dr Who|       4061|\n",
      "|       Dan Brown|       2424|\n",
      "|    Jason Bourne|       1804|\n",
      "|      Tony Stark|       1544|\n",
      "+----------------+-----------+\n",
      "\n"
     ]
    }
   ],
   "source": [
    "# Register DataFrames as temporary views (if not already done)\n",
    "df_sales.createOrReplaceTempView(\"sales\")\n",
    "df_customer.createOrReplaceTempView(\"customer\")\n",
    "\n",
    "# Write query using Spark SQL\n",
    "df_top_customers = spark.sql(\"\"\"\n",
    "SELECT c.name, SUM(s.sale_amount_usd) AS total_spent\n",
    "FROM sales s\n",
    "JOIN customer c ON s.customer_id = c.customer_id\n",
    "GROUP BY c.name\n",
    "ORDER BY total_spent DESC\n",
    "\"\"\")\n",
    "\n",
    "# Show Spark results\n",
    "df_top_customers.show()\n",
    "\n",
    "# Convert to Pandas for later visualization\n",
    "df_top_customers_pd = df_top_customers.toPandas()"
   ]
  },
  {
   "cell_type": "markdown",
   "metadata": {},
   "source": [
    "__________\n",
    "### Slicing: Filter sales by date range"
   ]
  },
  {
   "cell_type": "code",
   "execution_count": 86,
   "metadata": {},
   "outputs": [
    {
     "name": "stdout",
     "output_type": "stream",
     "text": [
      "+-------+----------+-----------+----------+--------+-----------+---------------+------------+------------+\n",
      "|sale_id| sale_date|customer_id|product_id|store_id|campaign_id|sale_amount_usd|bonus_points|payment_type|\n",
      "+-------+----------+-----------+----------+--------+-----------+---------------+------------+------------+\n",
      "|    550|2024-01-06|       1008|       102|     404|          0|             39|           5|       debit|\n",
      "|    551|2024-01-06|       1009|       105|     403|          0|             19|          40|      credit|\n",
      "|    552|2024-01-16|       1004|       107|     404|          0|            335|          50|        cash|\n",
      "|    553|2024-01-16|       1006|       102|     406|          0|            195|          55|      credit|\n",
      "|    554|2024-01-25|       1005|       102|     405|          0|            117|          60|       debit|\n",
      "|    555|2024-01-25|       1001|       101|     401|          0|           2379|          35|      credit|\n",
      "|    556|2024-01-29|       1009|       104|     403|          0|            172|         100|        cash|\n",
      "|    557|2024-01-29|       1010|       101|     402|          0|           3172|          85|      credit|\n",
      "|    558|2024-02-06|       1002|       102|     402|          0|            312|          25|   apple pay|\n",
      "|    559|2024-02-06|       1001|       106|     401|          0|            622|          95|       debit|\n",
      "|    560|2024-02-06|       1010|       101|     402|          0|           6344|           0|   apple pay|\n",
      "|    561|2024-02-06|       1005|       107|     405|          0|            469|          45|        cash|\n",
      "|    562|2024-02-08|       1003|       108|     403|          0|             12|          15|   apple pay|\n",
      "|    563|2024-02-08|       1006|       107|     406|          0|             67|         100|        cash|\n",
      "|    564|2024-02-09|       1009|       107|     403|          0|            469|          75|       debit|\n",
      "|    565|2024-02-09|       1002|       105|     402|          0|            138|          40|        cash|\n",
      "|    566|2024-02-24|       1007|       103|     405|          0|            204|           5|   apple pay|\n",
      "|    567|2024-02-24|       1007|       106|     405|          0|            444|          40|        cash|\n",
      "|    568|2024-02-24|       1011|       107|     401|          0|            603|          70|       debit|\n",
      "|    569|2024-02-24|       1010|       101|     402|          0|           3965|          15|        cash|\n",
      "+-------+----------+-----------+----------+--------+-----------+---------------+------------+------------+\n",
      "only showing top 20 rows\n",
      "\n"
     ]
    }
   ],
   "source": [
    "df_filtered = df_sales.filter(df_sales.sale_date >= \"2023-01-01\").show()"
   ]
  },
  {
   "cell_type": "markdown",
   "metadata": {},
   "source": [
    "______________\n",
    "### Dicing: Group sales by product and region"
   ]
  },
  {
   "cell_type": "markdown",
   "metadata": {},
   "source": [
    "Although customer region was available in the customer table, I chose here to create a region column in the sales data using store_id, since sales performance is typically analyzed by store location rather than customer residence. This also helped account for customers whose purchases occurred outside their listed home region."
   ]
  },
  {
   "cell_type": "code",
   "execution_count": 108,
   "metadata": {},
   "outputs": [
    {
     "name": "stdout",
     "output_type": "stream",
     "text": [
      "+-----------+------+-----------+\n",
      "|   category|region|total_sales|\n",
      "+-----------+------+-----------+\n",
      "|   Clothing|  East|       4078|\n",
      "|   Clothing| North|       5044|\n",
      "|   Clothing| South|       1256|\n",
      "|   Clothing|  West|       3032|\n",
      "|Electronics|  East|      58389|\n",
      "|Electronics| North|      11178|\n",
      "|Electronics| South|      10416|\n",
      "|Electronics|  West|      14453|\n",
      "|     Sports|  East|        275|\n",
      "|     Sports| North|        257|\n",
      "|     Sports| South|         39|\n",
      "|     Sports|  West|         98|\n",
      "+-----------+------+-----------+\n",
      "\n"
     ]
    }
   ],
   "source": [
    "# Define the mapping using when/otherwise\n",
    "df_sales = df_sales.withColumn(\"region\", \n",
    "                   when(df_sales[\"store_id\"] == 401, \"East\")\n",
    "                   .when(df_sales[\"store_id\"] == 402, \"East\")\n",
    "                   .when(df_sales[\"store_id\"] == 403, \"West\")\n",
    "                   .when(df_sales[\"store_id\"] == 404, \"West\")\n",
    "                   .when(df_sales[\"store_id\"] == 405, \"North\")\n",
    "                   .when(df_sales[\"store_id\"] == 406, \"South\")\n",
    "                   .otherwise(\"Unknown\"))\n",
    "\n",
    "# Join sales with product to get the category column\n",
    "df_joined = df_sales.join(df_product, on=\"product_id\")\n",
    "\n",
    "# Group by category and region, then aggregate\n",
    "df_joined.groupBy(\"category\", \"region\") \\\n",
    "         .agg(_sum(\"sale_amount_usd\").alias(\"total_sales\")) \\\n",
    "         .orderBy(\"category\", \"region\") \\\n",
    "         .show()\n"
   ]
  },
  {
   "cell_type": "markdown",
   "metadata": {},
   "source": [
    "For comparison, I also created an alternative version by joining the product and customer tables. This version groups sales by product category and the region where the customer lives. The results differ—sometimes significantly—from the store-based chart, highlighting how the choice of grouping dimension can impact the interpretation of sales performance."
   ]
  },
  {
   "cell_type": "code",
   "execution_count": 107,
   "metadata": {},
   "outputs": [
    {
     "name": "stdout",
     "output_type": "stream",
     "text": [
      "+-----------+------+-----------+\n",
      "|   category|region|total_sales|\n",
      "+-----------+------+-----------+\n",
      "|   Clothing|  East|       4078|\n",
      "|   Clothing| North|       3581|\n",
      "|   Clothing| South|       3384|\n",
      "|   Clothing|  West|       2367|\n",
      "|Electronics|  East|      58389|\n",
      "|Electronics| North|       1688|\n",
      "|Electronics| South|      20706|\n",
      "|Electronics|  West|      13653|\n",
      "|     Sports|  East|        275|\n",
      "|     Sports| North|        336|\n",
      "|     Sports| South|         39|\n",
      "|     Sports|  West|         19|\n",
      "+-----------+------+-----------+\n",
      "\n"
     ]
    }
   ],
   "source": [
    "# Give aliases to each DataFrame before joining\n",
    "sales = df_sales.alias(\"s\")\n",
    "product = df_product.alias(\"p\")\n",
    "customer = df_customer.alias(\"c\")\n",
    "\n",
    "# Join the tables\n",
    "df_combined = sales \\\n",
    "    .join(product, on=\"product_id\") \\\n",
    "    .join(customer, on=\"customer_id\")\n",
    "\n",
    "# Use c.region to refer to the customer's region\n",
    "df_diced = df_combined.groupBy(\"category\", customer[\"region\"]) \\\n",
    "    .agg(_sum(\"sale_amount_usd\").alias(\"total_sales\")) \\\n",
    "    .orderBy(\"category\", \"region\")\n",
    "\n",
    "df_diced.show()"
   ]
  },
  {
   "cell_type": "markdown",
   "metadata": {},
   "source": [
    "_______________\n",
    "### Drilldown: Aggregate sales by year → quarter → month"
   ]
  },
  {
   "cell_type": "code",
   "execution_count": 88,
   "metadata": {},
   "outputs": [
    {
     "name": "stdout",
     "output_type": "stream",
     "text": [
      "+----+-----------+\n",
      "|year|total_sales|\n",
      "+----+-----------+\n",
      "|2024|     108515|\n",
      "+----+-----------+\n",
      "\n",
      "+-------+-----------+\n",
      "|quarter|total_sales|\n",
      "+-------+-----------+\n",
      "|      1|      33161|\n",
      "|      2|      34359|\n",
      "|      3|      35143|\n",
      "|      4|       5852|\n",
      "+-------+-----------+\n",
      "\n",
      "+-----+-----------+\n",
      "|month|total_sales|\n",
      "+-----+-----------+\n",
      "|    1|       6428|\n",
      "|    2|      14584|\n",
      "|    3|      12149|\n",
      "|    4|      16939|\n",
      "|    5|      10980|\n",
      "|    6|       6440|\n",
      "|    7|      21032|\n",
      "|    8|       4621|\n",
      "|    9|       9490|\n",
      "|   10|       5852|\n",
      "+-----+-----------+\n",
      "\n"
     ]
    }
   ],
   "source": [
    "df_sales = df_sales.withColumn(\"year\", year(\"sale_date\")) \\\n",
    "                   .withColumn(\"quarter\", quarter(\"sale_date\")) \\\n",
    "                   .withColumn(\"month\", month(\"sale_date\"))\n",
    "                   \n",
    "df_sales.groupby(\"year\") \\\n",
    "        .agg(_sum(\"sale_amount_usd\").alias(\"total_sales\")) \\\n",
    "        .show()\n",
    "df_sales.groupBy(\"quarter\") \\\n",
    "        .agg(_sum(\"sale_amount_usd\").alias(\"total_sales\")) \\\n",
    "        .orderBy(\"quarter\") \\\n",
    "        .show()\n",
    "df_sales.groupBy(\"month\") \\\n",
    "        .agg(_sum(\"sale_amount_usd\").alias(\"total_sales\")) \\\n",
    "        .orderBy(\"month\") \\\n",
    "        .show()"
   ]
  },
  {
   "cell_type": "markdown",
   "metadata": {},
   "source": [
    "____________________\n",
    "### Create a bar chart for Top Customers"
   ]
  },
  {
   "cell_type": "code",
   "execution_count": 89,
   "metadata": {},
   "outputs": [
    {
     "data": {
      "image/png": "[encoded data removed]",
      "text/plain": [
       "<Figure size 640x480 with 1 Axes>"
      ]
     },
     "metadata": {},
     "output_type": "display_data"
    }
   ],
   "source": [
    "# Use Top Customers DataFrame previously converted into pandas \n",
    "sns.barplot(data=df_top_customers_pd, x=\"name\", y=\"total_spent\")\n",
    "plt.xticks(rotation=45)\n",
    "plt.show()"
   ]
  },
  {
   "cell_type": "markdown",
   "metadata": {},
   "source": [
    "_____________\n",
    "### Create a line chart for Sales Trends"
   ]
  },
  {
   "cell_type": "code",
   "execution_count": 90,
   "metadata": {},
   "outputs": [
    {
     "data": {
      "image/png": "[encoded data removed]",
      "text/plain": [
       "<Figure size 640x480 with 1 Axes>"
      ]
     },
     "metadata": {},
     "output_type": "display_data"
    }
   ],
   "source": [
    "df_sales_trends = df_sales \\\n",
    "    .withColumn(\"year\", year(\"sale_date\")) \\\n",
    "    .withColumn(\"month\", month(\"sale_date\")) \\\n",
    "    .groupBy(\"year\", \"month\") \\\n",
    "    .agg(_sum(\"sale_amount_usd\").alias(\"total_sales\")) \\\n",
    "    .orderBy(\"year\", \"month\")\n",
    "\n",
    "# Convert to Pandas\n",
    "df_sales_trends_pd = df_sales_trends.toPandas()\n",
    "\n",
    "# Optional: create a combined date column\n",
    "df_sales_trends_pd[\"date\"] = pd.to_datetime(df_sales_trends_pd[[\"year\", \"month\"]].assign(day=1))\n",
    "\n",
    "# Plot\n",
    "sns.lineplot(data=df_sales_trends_pd, x=\"date\", y=\"total_sales\")\n",
    "plt.xticks(rotation=45)\n",
    "plt.title(\"Monthly Sales Trends\")\n",
    "plt.xlabel(\"Date\")\n",
    "plt.ylabel(\"Total Sales (USD)\")\n",
    "plt.tight_layout()\n",
    "plt.show()\n"
   ]
  },
  {
   "cell_type": "code",
   "execution_count": 105,
   "metadata": {},
   "outputs": [
    {
     "name": "stdout",
     "output_type": "stream",
     "text": [
      "+-----------+------+-----------+\n",
      "|   category|region|total_sales|\n",
      "+-----------+------+-----------+\n",
      "|   Clothing|  East|       4078|\n",
      "|   Clothing| North|       3581|\n",
      "|   Clothing| South|       3384|\n",
      "|   Clothing|  West|       2367|\n",
      "|Electronics|  East|      58389|\n",
      "|Electronics| North|       1688|\n",
      "|Electronics| South|      20706|\n",
      "|Electronics|  West|      13653|\n",
      "|     Sports|  East|        275|\n",
      "|     Sports| North|        336|\n",
      "|     Sports| South|         39|\n",
      "|     Sports|  West|         19|\n",
      "+-----------+------+-----------+\n",
      "\n"
     ]
    }
   ],
   "source": [
    "from pyspark.sql.functions import sum as _sum\n",
    "\n",
    "# Give aliases to each DataFrame before joining\n",
    "sales = df_sales.alias(\"s\")\n",
    "product = df_product.alias(\"p\")\n",
    "customer = df_customer.alias(\"c\")\n",
    "\n",
    "# Join the tables\n",
    "df_combined = sales \\\n",
    "    .join(product, on=\"product_id\") \\\n",
    "    .join(customer, on=\"customer_id\")\n",
    "\n",
    "# Use c.region to refer to the customer's region\n",
    "df_diced = df_combined.groupBy(\"category\", customer[\"region\"]) \\\n",
    "    .agg(_sum(\"sale_amount_usd\").alias(\"total_sales\")) \\\n",
    "    .orderBy(\"category\", \"region\")\n",
    "\n",
    "df_diced.show()\n",
    "\n"
   ]
  }
 ],
 "metadata": {
  "kernelspec": {
   "display_name": ".venv",
   "language": "python",
   "name": "python3"
  },
  "language_info": {
   "codemirror_mode": {
    "name": "ipython",
    "version": 3
   },
   "file_extension": ".py",
   "mimetype": "text/x-python",
   "name": "python",
   "nbconvert_exporter": "python",
   "pygments_lexer": "ipython3",
   "version": "3.12.5"
  }
 },
 "nbformat": 4,
 "nbformat_minor": 2
}
