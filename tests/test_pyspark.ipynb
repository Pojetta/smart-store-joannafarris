{
 "cells": [
  {
   "cell_type": "code",
   "execution_count": 3,
   "id": "b0b80022",
   "metadata": {},
   "outputs": [],
   "source": [
    "from pyspark.sql import SparkSession\n",
    "from pathlib import Path\n",
    "\n",
    "# Define paths using pathlib\n",
    "PROJECT_ROOT = Path(\"/Users/joannafarris/Projects/smart-store-joannafarris\")\n",
    "JDBC_JAR_PATH = PROJECT_ROOT / \"lib\" / \"sqlite-jdbc-3.49.1.0.jar\"\n",
    "DB_PATH = PROJECT_ROOT / \"data\" / \"dw\" / \"smart_sales.db\"\n",
    "\n",
    "# Define the JDBC URL\n",
    "DB_URL = f\"jdbc:sqlite:{str(DB_PATH)}\""
   ]
  },
  {
   "cell_type": "code",
   "execution_count": 4,
   "id": "91f001f3",
   "metadata": {},
   "outputs": [],
   "source": [
    "# Stop existing Spark session if one is already active\n",
    "if 'spark' in locals() and spark is not None:\n",
    "    spark.stop()\n",
    "\n",
    "\n",
    "# Create SparkSession with the JDBC jar\n",
    "spark = SparkSession.builder \\\n",
    "    .appName(\"test_pyspark\") \\\n",
    "    .config(\"spark.jars\", str(JDBC_JAR_PATH)) \\\n",
    "    .config(\"spark.driver.extraClassPath\", str(JDBC_JAR_PATH)) \\\n",
    "    .getOrCreate()\n",
    "\n",
    "# Set Spark's log level to WARN to reduce output\n",
    "spark.sparkContext.setLogLevel(\"ERROR\")"
   ]
  }
 ],
 "metadata": {
  "kernelspec": {
   "display_name": ".venv",
   "language": "python",
   "name": "python3"
  },
  "language_info": {
   "codemirror_mode": {
    "name": "ipython",
    "version": 3
   },
   "file_extension": ".py",
   "mimetype": "text/x-python",
   "name": "python",
   "nbconvert_exporter": "python",
   "pygments_lexer": "ipython3",
   "version": "3.12.5"
  }
 },
 "nbformat": 4,
 "nbformat_minor": 5
}
